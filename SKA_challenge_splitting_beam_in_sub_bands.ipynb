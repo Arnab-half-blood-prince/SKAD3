{
 "cells": [
  {
   "cell_type": "code",
   "execution_count": 1,
   "metadata": {},
   "outputs": [
    {
     "name": "stdout",
     "output_type": "stream",
     "text": [
      "The 21 cm line emission freq -  1420.405752 MHz\n"
     ]
    }
   ],
   "source": [
    "import numpy as np\n",
    "import pylab as plt\n",
    "#from numpy import fft\n",
    "import healpy as hp\n",
    "from astropy.cosmology import Planck15, default_cosmology\n",
    "from astropy import constants as const\n",
    "from astropy import units as un\n",
    "from astropy.coordinates import SkyCoord\n",
    "import h5py\n",
    "from scipy import signal\n",
    "from astropy.io import ascii, fits\n",
    "\n",
    "fft = np.fft.fft\n",
    "fft2 = np.fft.fft2\n",
    "ifft2 = np.fft.ifft2\n",
    "fftshift = np.fft.fftshift\n",
    "ifftshift = np.fft.ifftshift\n",
    "\n",
    "## Defining the cosmology - Planck15 of astropy \n",
    "cosmo = Planck15\n",
    "f21 = 1420.405752 * un.MHz # MHz\n",
    "c = const.c.value # m/s\n",
    "print('The 21 cm line emission freq - ',f21)"
   ]
  },
  {
   "cell_type": "code",
   "execution_count": 2,
   "metadata": {},
   "outputs": [],
   "source": [
    "import matplotlib\n",
    "import matplotlib.pyplot as plt\n",
    "import matplotlib.dates as mdates\n",
    "import matplotlib.gridspec as gridspec\n",
    "from matplotlib.colors import LogNorm\n",
    "%matplotlib inline\n",
    "\n",
    "plt.rc('font', family='serif', weight='normal', size=22.0)\n",
    "# plt.rc('xtick', labelsize='x-small')\n",
    "# plt.rc('ytick', labelsize='x-small')\n",
    "\n",
    "import copy\n",
    "COLORMAP = copy.copy(matplotlib.cm.__dict__[\"inferno\"])\n",
    "COLORMAP.set_under(\"black\")\n",
    "COLORMAP.set_bad(\"lightgray\")"
   ]
  },
  {
   "cell_type": "code",
   "execution_count": 3,
   "metadata": {},
   "outputs": [],
   "source": [
    "import os\n",
    "import copy"
   ]
  },
  {
   "cell_type": "markdown",
   "metadata": {},
   "source": [
    "# Load Data"
   ]
  },
  {
   "cell_type": "code",
   "execution_count": 4,
   "metadata": {},
   "outputs": [],
   "source": [
    "path = '/home/arnab92/projects/rpp-chime/arnab92/SKAD3/data'\n",
    "data_u = os.path.join(path,'station_beam.fits')"
   ]
  },
  {
   "cell_type": "code",
   "execution_count": 5,
   "metadata": {},
   "outputs": [],
   "source": [
    "hdu = fits.open(data_u)[0]"
   ]
  },
  {
   "cell_type": "code",
   "execution_count": 6,
   "metadata": {},
   "outputs": [],
   "source": [
    "hdr = hdu.header"
   ]
  },
  {
   "cell_type": "code",
   "execution_count": 7,
   "metadata": {},
   "outputs": [
    {
     "data": {
      "text/plain": [
       "SIMPLE  =                    T  /                                               \n",
       "BITPIX  =                  -32  /                                               \n",
       "NAXIS   =                    3  /                                               \n",
       "NAXIS1  =                 2560                                                  \n",
       "NAXIS2  =                 2560                                                  \n",
       "NAXIS3  =                  901  /                                               \n",
       "EXTEND  =                    T  /                                               \n",
       "BSCALE  =    1.00000000000E+00  /                                               \n",
       "BZERO   =    0.00000000000E+00  /                                               \n",
       "CRPIX1  =                 1280                                                  \n",
       "CDELT1  = -0.00444444444444800                                                  \n",
       "CRVAL1  =    0.00000000000E+00  /                                               \n",
       "CTYPE1  = 'RA---SIN'  /                                                         \n",
       "CRPIX2  =                 1280                                                  \n",
       "CDELT2  = 0.004444444444448001                                                  \n",
       "CRVAL2  =   -3.00000000000E+01  /                                               \n",
       "CTYPE2  = 'DEC--SIN'  /                                                         \n",
       "CRPIX3  =    1.00000000000E+00  /                                               \n",
       "CDELT3  =    1.00000000000E+05  /                                               \n",
       "CRVAL3  =    1.06000000000E+08  /                                               \n",
       "CTYPE3  = 'FREQ    '  /                                                         \n",
       "CELLSCAL= 'CONSTANT'  /                                                         \n",
       "EPOCH   =    2.00000000000E+03  /                                               \n",
       "DATAMAX =    1.00000214577E+00  /                                               \n",
       "DATAMIN =    4.54502196590E-06  /                                               \n",
       "HISTORY CUNIT1  = 'deg     '                                                    \n",
       "HISTORY CUNIT2  = 'deg     '                                                    \n",
       "HISTORY CUNIT3  = 'Hz      '                                                    \n",
       "HISTORY FITS: Miriad fits: Revision 1.37, 2021/12/21 22:54:58 UTC               \n",
       "HISTORY FITS: Executed on: 2022-09-20T14:27:16.0                                \n",
       "HISTORY FITS: Command line inputs follow:                                       \n",
       "HISTORY FITS:   op=xyin                                                         \n",
       "HISTORY FITS:   in=AB02_mini.fits                                               \n",
       "HISTORY FITS:   out=AB02_mini                                                   \n",
       "HISTORY REGRID: Miriad regrid: Revision 1.19, 2021/06/02 04:45:09 UTC           \n",
       "HISTORY REGRID: Executed on: 2022-09-20T14:27:17.0                              \n",
       "HISTORY REGRID: Command line inputs follow:                                     \n",
       "HISTORY REGRID:   in=AB02_mini                                                  \n",
       "HISTORY REGRID:   axes=1,2                                                      \n",
       "HISTORY REGRID:   desc=0.0,1024.0,-0.005555555555555556,2048,-30.0,1024.0,0.0055\n",
       "HISTORY REGRID:   tol=0.499                                                     \n",
       "HISTORY REGRID:   out=AB02_maxir                                                \n",
       "HISTORY IMBLR: Miriad imblr: Revision 1.5, 2013/08/30 01:49:21 UTC              \n",
       "HISTORY IMBLR: Executed on: 2022-09-20T14:32:28.0                               \n",
       "HISTORY IMBLR: Command line inputs follow:                                      \n",
       "HISTORY IMBLR:   in=AB02_maxir                                                  \n",
       "HISTORY IMBLR:   out=AB02_maxi                                                  \n",
       "HISTORY FITS: Miriad fits: fits: Revision 1.37, 2021/12/21 22:54:58 UTC         \n",
       "HISTORY FITS: Executed on: 22SEP21:06:55:00.0                                   \n",
       "HISTORY FITS: Command line inputs follow:                                       \n",
       "HISTORY FITS:    op=xyout                                                       \n",
       "HISTORY FITS:    in=AB02_maxi                                                   \n",
       "HISTORY FITS:    out=AB02_maxi.fits                                             \n",
       "HISTORY FITS: NOTE: Use options=varwt if loading into Miriad                    \n",
       "ORIGIN  = 'Miriad fits: Revision 1.37, 2021/12/21 22:54:58 UTC'  /              "
      ]
     },
     "execution_count": 7,
     "metadata": {},
     "output_type": "execute_result"
    }
   ],
   "source": [
    "hdr"
   ]
  },
  {
   "cell_type": "code",
   "execution_count": 8,
   "metadata": {},
   "outputs": [],
   "source": [
    "# image = np.array(hdu.data[:])"
   ]
  },
  {
   "cell_type": "code",
   "execution_count": 9,
   "metadata": {},
   "outputs": [],
   "source": [
    "# nfreq, Nx, Ny = image.shape"
   ]
  },
  {
   "cell_type": "code",
   "execution_count": 10,
   "metadata": {},
   "outputs": [],
   "source": [
    "nfreq = hdr.get('NAXIS3')"
   ]
  },
  {
   "cell_type": "code",
   "execution_count": 11,
   "metadata": {},
   "outputs": [
    {
     "data": {
      "text/plain": [
       "901"
      ]
     },
     "execution_count": 11,
     "metadata": {},
     "output_type": "execute_result"
    }
   ],
   "source": [
    "nfreq"
   ]
  },
  {
   "cell_type": "code",
   "execution_count": 12,
   "metadata": {},
   "outputs": [
    {
     "name": "stdout",
     "output_type": "stream",
     "text": [
      "freq range : 106.0 to 196.0 MHz\n",
      " Chan res : 0.1 MHz\n"
     ]
    }
   ],
   "source": [
    "# Freq array of the data\n",
    "freq0 = hdr.get('CRVAL3') # First freq channel value in Hz\n",
    "chan_res = hdr.get('CDELT3') # chan res in Hz\n",
    "freq = freq0 + chan_res * (np.arange(nfreq)) # The freq array in Hz\n",
    "print(f\"freq range : {freq[0]/1e6} to {freq[-1]/1e6} MHz\")\n",
    "print(f\" Chan res : {chan_res/1e6} MHz\")"
   ]
  },
  {
   "cell_type": "code",
   "execution_count": 13,
   "metadata": {},
   "outputs": [],
   "source": [
    "sub_band_width = 15.0e6 # 15 MHz\n",
    "nchans = int(sub_band_width/chan_res)"
   ]
  },
  {
   "cell_type": "code",
   "execution_count": 14,
   "metadata": {},
   "outputs": [],
   "source": [
    "sub_1 = freq[0:1*nchans]\n",
    "sub_2 = freq[1*nchans:2*nchans]\n",
    "sub_3 = freq[2*nchans:3*nchans]\n",
    "sub_4 = freq[3*nchans:4*nchans]\n",
    "sub_5 = freq[4*nchans:5*nchans]\n",
    "sub_6 = freq[5*nchans:nfreq]\n"
   ]
  },
  {
   "cell_type": "code",
   "execution_count": 15,
   "metadata": {},
   "outputs": [
    {
     "name": "stdout",
     "output_type": "stream",
     "text": [
      "Sub_1 : 106000000.0 to 120900000.0\n",
      "Sub_2 : 121000000.0 to 135900000.0\n",
      "Sub_3 : 136000000.0 to 150900000.0\n",
      "Sub_4 : 151000000.0 to 165900000.0\n",
      "Sub_5 : 166000000.0 to 180900000.0\n",
      "Sub_6 : 181000000.0 to 196000000.0\n"
     ]
    }
   ],
   "source": [
    "print(f'Sub_1 : {sub_1[0]} to {sub_1[-1]}')\n",
    "print(f'Sub_2 : {sub_2[0]} to {sub_2[-1]}')\n",
    "print(f'Sub_3 : {sub_3[0]} to {sub_3[-1]}')\n",
    "print(f'Sub_4 : {sub_4[0]} to {sub_4[-1]}')\n",
    "print(f'Sub_5 : {sub_5[0]} to {sub_5[-1]}')\n",
    "print(f'Sub_6 : {sub_6[0]} to {sub_6[-1]}')\n"
   ]
  },
  {
   "cell_type": "code",
   "execution_count": 16,
   "metadata": {},
   "outputs": [
    {
     "data": {
      "text/plain": [
       "((150,), (150,), (150,), (150,), (150,), (151,))"
      ]
     },
     "execution_count": 16,
     "metadata": {},
     "output_type": "execute_result"
    }
   ],
   "source": [
    "sub_1.shape, sub_2.shape, sub_3.shape, sub_4.shape, sub_5.shape, sub_6.shape"
   ]
  },
  {
   "cell_type": "markdown",
   "metadata": {},
   "source": [
    "# Save sub-band_1"
   ]
  },
  {
   "cell_type": "code",
   "execution_count": 17,
   "metadata": {},
   "outputs": [],
   "source": [
    "data = np.array(hdu.data[0:1*nchans,:,:])"
   ]
  },
  {
   "cell_type": "code",
   "execution_count": 18,
   "metadata": {},
   "outputs": [
    {
     "data": {
      "text/plain": [
       "(150, 2560, 2560)"
      ]
     },
     "execution_count": 18,
     "metadata": {},
     "output_type": "execute_result"
    }
   ],
   "source": [
    "data.shape"
   ]
  },
  {
   "cell_type": "code",
   "execution_count": 19,
   "metadata": {},
   "outputs": [],
   "source": [
    "hdr1 = copy.copy(hdr)"
   ]
  },
  {
   "cell_type": "code",
   "execution_count": 20,
   "metadata": {},
   "outputs": [],
   "source": [
    "hdr1['CRVAL3'] = sub_1[0]"
   ]
  },
  {
   "cell_type": "code",
   "execution_count": 21,
   "metadata": {},
   "outputs": [],
   "source": [
    "hdr1['NAXIS3'] = sub_1.size"
   ]
  },
  {
   "cell_type": "code",
   "execution_count": 22,
   "metadata": {},
   "outputs": [],
   "source": [
    "data_s = os.path.join(path,'SKA_beam_sub_1_106_120.9_MHz.fits')\n",
    "fits.writeto(data_s, data, hdr1) #create new image file"
   ]
  },
  {
   "cell_type": "code",
   "execution_count": 23,
   "metadata": {},
   "outputs": [
    {
     "data": {
      "text/plain": [
       "'/home/arnab92/projects/rpp-chime/arnab92/SKAD3/data'"
      ]
     },
     "execution_count": 23,
     "metadata": {},
     "output_type": "execute_result"
    }
   ],
   "source": [
    "path"
   ]
  },
  {
   "cell_type": "markdown",
   "metadata": {},
   "source": [
    "# Save sub-band_2"
   ]
  },
  {
   "cell_type": "code",
   "execution_count": 24,
   "metadata": {},
   "outputs": [],
   "source": [
    "data = np.array(hdu.data[1*nchans:2*nchans,:,:])"
   ]
  },
  {
   "cell_type": "code",
   "execution_count": 25,
   "metadata": {},
   "outputs": [],
   "source": [
    "hdr1 = copy.copy(hdr)"
   ]
  },
  {
   "cell_type": "code",
   "execution_count": 26,
   "metadata": {},
   "outputs": [],
   "source": [
    "hdr1['CRVAL3'] = sub_2[0]"
   ]
  },
  {
   "cell_type": "code",
   "execution_count": 27,
   "metadata": {},
   "outputs": [],
   "source": [
    "hdr1['NAXIS3'] = sub_2.size"
   ]
  },
  {
   "cell_type": "code",
   "execution_count": 28,
   "metadata": {},
   "outputs": [],
   "source": [
    "data_s = os.path.join(path,'SKA_beam_sub_2_121_135.9_MHz.fits')\n",
    "fits.writeto(data_s, data, hdr1) #create new image file"
   ]
  },
  {
   "cell_type": "code",
   "execution_count": 29,
   "metadata": {},
   "outputs": [
    {
     "data": {
      "text/plain": [
       "(150, 2560, 2560)"
      ]
     },
     "execution_count": 29,
     "metadata": {},
     "output_type": "execute_result"
    }
   ],
   "source": [
    "data.shape"
   ]
  },
  {
   "cell_type": "markdown",
   "metadata": {},
   "source": [
    "# Save sub-band_3"
   ]
  },
  {
   "cell_type": "code",
   "execution_count": 30,
   "metadata": {},
   "outputs": [],
   "source": [
    "data = np.array(hdu.data[2*nchans:3*nchans,:,:])"
   ]
  },
  {
   "cell_type": "code",
   "execution_count": 31,
   "metadata": {},
   "outputs": [],
   "source": [
    "hdr1 = copy.copy(hdr)"
   ]
  },
  {
   "cell_type": "code",
   "execution_count": 32,
   "metadata": {},
   "outputs": [],
   "source": [
    "hdr1['CRVAL3'] = sub_3[0]"
   ]
  },
  {
   "cell_type": "code",
   "execution_count": 33,
   "metadata": {},
   "outputs": [],
   "source": [
    "hdr1['NAXIS3'] = sub_3.size"
   ]
  },
  {
   "cell_type": "code",
   "execution_count": 34,
   "metadata": {},
   "outputs": [],
   "source": [
    "data_s = os.path.join(path,'SKA_beam_sub_3_136_150.9_MHz.fits')\n",
    "fits.writeto(data_s, data, hdr1) #create new image file"
   ]
  },
  {
   "cell_type": "markdown",
   "metadata": {},
   "source": [
    "# Save sub-band_4"
   ]
  },
  {
   "cell_type": "code",
   "execution_count": 35,
   "metadata": {},
   "outputs": [],
   "source": [
    "data = np.array(hdu.data[3*nchans:4*nchans,:,:])"
   ]
  },
  {
   "cell_type": "code",
   "execution_count": 36,
   "metadata": {},
   "outputs": [],
   "source": [
    "hdr1 = copy.copy(hdr)"
   ]
  },
  {
   "cell_type": "code",
   "execution_count": 37,
   "metadata": {},
   "outputs": [],
   "source": [
    "hdr1['CRVAL3'] = sub_4[0]"
   ]
  },
  {
   "cell_type": "code",
   "execution_count": 38,
   "metadata": {},
   "outputs": [],
   "source": [
    "hdr1['NAXIS3'] = sub_4.size"
   ]
  },
  {
   "cell_type": "code",
   "execution_count": 39,
   "metadata": {},
   "outputs": [],
   "source": [
    "data_s = os.path.join(path,'SKA_beam_sub_4_151_165.9_MHz.fits')\n",
    "fits.writeto(data_s, data, hdr1) #create new image file"
   ]
  },
  {
   "cell_type": "markdown",
   "metadata": {},
   "source": [
    "# Save sub-band_5"
   ]
  },
  {
   "cell_type": "code",
   "execution_count": 40,
   "metadata": {},
   "outputs": [],
   "source": [
    "data = np.array(hdu.data[4*nchans:5*nchans,:,:])"
   ]
  },
  {
   "cell_type": "code",
   "execution_count": 41,
   "metadata": {},
   "outputs": [],
   "source": [
    "hdr1 = copy.copy(hdr)"
   ]
  },
  {
   "cell_type": "code",
   "execution_count": 42,
   "metadata": {},
   "outputs": [],
   "source": [
    "hdr1['CRVAL3'] = sub_5[0]"
   ]
  },
  {
   "cell_type": "code",
   "execution_count": 43,
   "metadata": {},
   "outputs": [],
   "source": [
    "hdr1['NAXIS3'] = sub_5.size"
   ]
  },
  {
   "cell_type": "code",
   "execution_count": 44,
   "metadata": {},
   "outputs": [],
   "source": [
    "data_s = os.path.join(path,'SKA_beam_sub_5_166_180.9_MHz.fits')\n",
    "fits.writeto(data_s, data, hdr1) #create new image file"
   ]
  },
  {
   "cell_type": "markdown",
   "metadata": {},
   "source": [
    "# Save sub-band_6"
   ]
  },
  {
   "cell_type": "code",
   "execution_count": 45,
   "metadata": {},
   "outputs": [
    {
     "data": {
      "text/plain": [
       "901"
      ]
     },
     "execution_count": 45,
     "metadata": {},
     "output_type": "execute_result"
    }
   ],
   "source": [
    "nfreq"
   ]
  },
  {
   "cell_type": "code",
   "execution_count": 46,
   "metadata": {},
   "outputs": [],
   "source": [
    "data = np.array(hdu.data[5*nchans:nfreq,:,:])"
   ]
  },
  {
   "cell_type": "code",
   "execution_count": 47,
   "metadata": {},
   "outputs": [],
   "source": [
    "hdr1 = copy.copy(hdr)"
   ]
  },
  {
   "cell_type": "code",
   "execution_count": 48,
   "metadata": {},
   "outputs": [],
   "source": [
    "hdr1['CRVAL3'] = sub_6[0]"
   ]
  },
  {
   "cell_type": "code",
   "execution_count": 49,
   "metadata": {},
   "outputs": [],
   "source": [
    "hdr1['NAXIS3'] = sub_6.size"
   ]
  },
  {
   "cell_type": "code",
   "execution_count": 50,
   "metadata": {},
   "outputs": [
    {
     "data": {
      "text/plain": [
       "(151, 2560, 2560)"
      ]
     },
     "execution_count": 50,
     "metadata": {},
     "output_type": "execute_result"
    }
   ],
   "source": [
    "data.shape"
   ]
  },
  {
   "cell_type": "code",
   "execution_count": 51,
   "metadata": {},
   "outputs": [],
   "source": [
    "data_s = os.path.join(path,'SKA_beam_sub_6_181_196_MHz.fits')\n",
    "fits.writeto(data_s, data, hdr1) #create new image file"
   ]
  },
  {
   "cell_type": "code",
   "execution_count": null,
   "metadata": {},
   "outputs": [],
   "source": []
  },
  {
   "cell_type": "code",
   "execution_count": 52,
   "metadata": {},
   "outputs": [],
   "source": [
    "# Try to load sub_band and plot"
   ]
  },
  {
   "cell_type": "code",
   "execution_count": 53,
   "metadata": {},
   "outputs": [],
   "source": [
    "# HDU = fits.open(data_s)[0]"
   ]
  },
  {
   "cell_type": "code",
   "execution_count": 54,
   "metadata": {},
   "outputs": [],
   "source": [
    "# image = np.array(HDU.data[:])"
   ]
  },
  {
   "cell_type": "code",
   "execution_count": 55,
   "metadata": {},
   "outputs": [],
   "source": [
    "# HDR = HDU.header"
   ]
  },
  {
   "cell_type": "code",
   "execution_count": 56,
   "metadata": {},
   "outputs": [],
   "source": [
    "# Nz, Nx, Ny = image.shape"
   ]
  },
  {
   "cell_type": "code",
   "execution_count": 57,
   "metadata": {},
   "outputs": [],
   "source": [
    "# # Resolution of the image\n",
    "# dx = HDR.get('CDELT1') # pixel size in X-direction, in deg\n",
    "# dy = HDR.get('CDELT2') # pixel size in Y-direction , in deg\n",
    "# print(f'pixel size in X and Y directions are, dx:{abs(dx*3600)} arcsec and dy:{abs(dy*3600)} arcsec')"
   ]
  },
  {
   "cell_type": "code",
   "execution_count": 58,
   "metadata": {},
   "outputs": [],
   "source": [
    "# freq_start = hdr['CRVAL3']\n",
    "# df = hdr['CDELT3']\n",
    "# nf = hdr['NAXIS3']\n",
    "# freq_end = freq_start + (nf - 1) * df\n",
    "# fits_freqs = np.linspace(freq_start, freq_end, nf)\n"
   ]
  },
  {
   "cell_type": "code",
   "execution_count": 59,
   "metadata": {},
   "outputs": [],
   "source": [
    "# DEC_c = HDR.get('CRVAL2')\n",
    "# RA_c = HDR.get('CRVAL1')\n",
    "# cdelta2 = HDR.get('CDELT2')\n",
    "# cdelta1 = HDR.get('CDELT1')\n",
    "# DEC = np.arange((DEC_c-(cdelta2*Ny/2.)) , (DEC_c+(cdelta2*Ny/2.)), cdelta2)\n",
    "# RA = np.arange((RA_c-(cdelta1*Nx/2.)) , (RA_c+(cdelta1*Nx/2.)), cdelta1)\n",
    "\n",
    "# print(f'RA size: {RA.size} and DEC size {DEC.size}')\n",
    "\n",
    "# print(f\"RA range : {RA[0]} to {RA[-1]}\")\n",
    "# print(f\"DEC range : {DEC[0]} to {DEC[-1]}\")"
   ]
  },
  {
   "cell_type": "code",
   "execution_count": 60,
   "metadata": {},
   "outputs": [],
   "source": [
    "# ext=(RA[0],RA[-1], DEC[0], DEC[-1])\n",
    "# imshow_kwargs = dict(aspect='auto', origin='lower', interpolation='nearest', \n",
    "#                      extent=ext, cmap='hot')\n",
    "# plt.figure(figsize=(12,8),dpi=100)\n",
    "# nu_id = 5\n",
    "# im = plt.imshow(image[nu_id,:,:].T,vmin=-0.01,vmax=0.28,**imshow_kwargs)\n",
    "# plt.xlabel(\"RA [deg]\",fontsize=16)\n",
    "# plt.ylabel('DEC [deg]',fontsize=16)\n",
    "# plt.title(f'Data; Freq = {freq[nu_id]/1e6}',fontsize=24)\n",
    "# plt.colorbar(orientation='vertical',pad=0.02)"
   ]
  },
  {
   "cell_type": "code",
   "execution_count": null,
   "metadata": {},
   "outputs": [],
   "source": []
  },
  {
   "cell_type": "code",
   "execution_count": null,
   "metadata": {},
   "outputs": [],
   "source": []
  }
 ],
 "metadata": {
  "kernelspec": {
   "display_name": "complex_delay_transform",
   "language": "python",
   "name": "complex_delay_transform"
  },
  "language_info": {
   "codemirror_mode": {
    "name": "ipython",
    "version": 3
   },
   "file_extension": ".py",
   "mimetype": "text/x-python",
   "name": "python",
   "nbconvert_exporter": "python",
   "pygments_lexer": "ipython3",
   "version": "3.8.2"
  }
 },
 "nbformat": 4,
 "nbformat_minor": 5
}
